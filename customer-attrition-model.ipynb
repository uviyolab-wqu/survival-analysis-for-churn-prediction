{
 "cells": [
  {
   "cell_type": "code",
   "execution_count": null,
   "metadata": {},
   "outputs": [],
   "source": [
    "import lifelines\n",
    "from lifelines import KaplanMeierFitter\n",
    "\n",
    "# fitting kaplan mier fitter to churn data\n",
    "t = data['term']\n",
    "churn = data['churn']\n",
    "kmf = lifelines.KaplanMeierFitter()\n",
    "kmf.fit(t, churn, label='Estimate for an Average Customer')\n"
   ]
  },
  {
   "cell_type": "code",
   "execution_count": null,
   "metadata": {},
   "outputs": [],
   "source": [
    "# plotting kaplan meier fitter curve\n",
    "fig, ax = plt.subplots(figsize=(10,7))\n",
    "kmf.plot(ax=ax)\n",
    "ax.set_title('Kaplan-Meier Survival Curve - All Clients')\n",
    "ax.set_xlable('Client Term - Months' )\n",
    "ax.set_ylabel('Client Survival Chance (%)')"
   ]
  }
 ],
 "metadata": {
  "kernelspec": {
   "display_name": "Python 3",
   "language": "python",
   "name": "python3"
  },
  "language_info": {
   "codemirror_mode": {
    "name": "ipython",
    "version": 3
   },
   "file_extension": ".py",
   "mimetype": "text/x-python",
   "name": "python",
   "nbconvert_exporter": "python",
   "pygments_lexer": "ipython3",
   "version": "3.6.8"
  }
 },
 "nbformat": 4,
 "nbformat_minor": 2
}
